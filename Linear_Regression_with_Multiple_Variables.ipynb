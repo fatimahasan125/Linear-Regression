{
  "nbformat": 4,
  "nbformat_minor": 0,
  "metadata": {
    "colab": {
      "name": "Linear Regression with Multiple Variables.ipynb",
      "provenance": []
    },
    "kernelspec": {
      "name": "python3",
      "display_name": "Python 3"
    }
  },
  "cells": [
    {
      "cell_type": "code",
      "metadata": {
        "id": "U3xVZNDJ5RTN"
      },
      "source": [
        "import numpy as np\n",
        "import matplotlib.pyplot as plt \n",
        "import pandas as pd"
      ],
      "execution_count": 1,
      "outputs": []
    },
    {
      "cell_type": "code",
      "metadata": {
        "id": "MmhfZPZXgAWq"
      },
      "source": [
        "def read_data_from_file():\n",
        "  df = pd.read_csv(\"data multiple variables.txt\", header=None, names=['Size', 'Bedrooms', 'Profit'], dtype=float)\n",
        "\n",
        "  return np.array(df[['Size', 'Bedrooms']]), np.array(df[['Profit']])"
      ],
      "execution_count": 2,
      "outputs": []
    },
    {
      "cell_type": "code",
      "metadata": {
        "id": "02TtrKgTiOcO"
      },
      "source": [
        "def feature_normalization(X,mean_size, mean_rooms, std_size, std_rooms):\n",
        "  X[:, 1] = np.divide(np.subtract(X[:, 1],mean_size),std_size)\n",
        "  X[:, 2] = np.divide(np.subtract(X[:, 2],mean_rooms),std_rooms)\n",
        "  "
      ],
      "execution_count": 3,
      "outputs": []
    },
    {
      "cell_type": "code",
      "metadata": {
        "id": "iy-li6qojBH3"
      },
      "source": [
        "def hypothesis(X, theta):\n",
        "  return np.dot(X, theta)\n",
        "\n",
        "def cost_function(X, y, theta):\n",
        "  return ((hypothesis(X, theta) - y).T.dot(hypothesis(X, theta) - y))/2*len(y)\n",
        "\n",
        "def gradient(X, y, theta):\n",
        "  return (X.T.dot(hypothesis(X, theta) - y))/len(y)\n"
      ],
      "execution_count": null,
      "outputs": []
    },
    {
      "cell_type": "code",
      "metadata": {
        "id": "cHSGKOaoj2Tc"
      },
      "source": [
        "def gradient_descent(learning_rate, number_of_iterations, X, y):\n",
        "  theta = np.zeros((3,1))\n",
        "  cost = []\n",
        "\n",
        "  for iteration in range(number_of_iterations):\n",
        "    cost.append((cost_function(X, y, theta))[0])\n",
        "    theta = theta - learning_rate*gradient(X, y, theta)\n",
        "\n",
        "  plt.plot(range(number_of_iterations), cost)\n",
        "  plt.xlabel(\"iterations\")\n",
        "  plt.ylabel(\"Cost J(0)\")\n",
        "\n",
        "  return theta\n",
        "\n",
        "def normal_equation(X, y):\n",
        "  x_transpose = np.transpose(X)\n",
        "  inverse = np.linalg.pinv(x_transpose.dot(X))\n",
        "  return inverse.dot(x_transpose.dot(y))"
      ],
      "execution_count": null,
      "outputs": []
    },
    {
      "cell_type": "code",
      "metadata": {
        "id": "tENXEI1U4_Dc",
        "colab": {
          "base_uri": "https://localhost:8080/",
          "height": 1000
        },
        "outputId": "5f05ea34-8b6f-4638-b34a-daf61e59b12f"
      },
      "source": [
        "\n",
        "X, y = read_data_from_file()\n",
        "\n",
        "X=np.insert(X,0,1.0,axis=1)\n",
        "\n",
        "from copy import copy, deepcopy\n",
        "X_unscaled = deepcopy(X)\n",
        "\n",
        "mean_size = np.mean(X[:, 1])\n",
        "mean_rooms = np.mean(X[:, 2])\n",
        "std_size = np.std(X[:, 1])\n",
        "std_rooms = np.std(X[:, 2])\n",
        "\n",
        "feature_normalization(X, mean_size, mean_rooms, std_size, std_rooms)\n",
        "\n",
        "alpha = 0.6\n",
        "iterations = 50\n",
        "\n",
        "theta_iterative = gradient_descent(alpha, iterations, X, y)\n",
        "\n",
        "theta_normal_equation = normal_equation(X_unscaled, y)\n",
        "\n",
        "features = np.array([(1.0, 1650.0, 3.0)])\n",
        "\n",
        "print(\"Normal equation prediction: \")\n",
        "print(hypothesis(features, theta_normal_equation))\n",
        "\n",
        "feature_normalization(features, mean_size, mean_rooms, std_size, std_rooms)\n",
        "\n",
        "print(\"Iterative prediction: \")\n",
        "print(hypothesis(features, theta_iterative))\n"
      ],
      "execution_count": null,
      "outputs": [
        {
          "output_type": "stream",
          "text": [
            "[[1.000e+00 2.104e+03 3.000e+00]\n",
            " [1.000e+00 1.600e+03 3.000e+00]\n",
            " [1.000e+00 2.400e+03 3.000e+00]\n",
            " [1.000e+00 1.416e+03 2.000e+00]\n",
            " [1.000e+00 3.000e+03 4.000e+00]\n",
            " [1.000e+00 1.985e+03 4.000e+00]\n",
            " [1.000e+00 1.534e+03 3.000e+00]\n",
            " [1.000e+00 1.427e+03 3.000e+00]\n",
            " [1.000e+00 1.380e+03 3.000e+00]\n",
            " [1.000e+00 1.494e+03 3.000e+00]\n",
            " [1.000e+00 1.940e+03 4.000e+00]\n",
            " [1.000e+00 2.000e+03 3.000e+00]\n",
            " [1.000e+00 1.890e+03 3.000e+00]\n",
            " [1.000e+00 4.478e+03 5.000e+00]\n",
            " [1.000e+00 1.268e+03 3.000e+00]\n",
            " [1.000e+00 2.300e+03 4.000e+00]\n",
            " [1.000e+00 1.320e+03 2.000e+00]\n",
            " [1.000e+00 1.236e+03 3.000e+00]\n",
            " [1.000e+00 2.609e+03 4.000e+00]\n",
            " [1.000e+00 3.031e+03 4.000e+00]\n",
            " [1.000e+00 1.767e+03 3.000e+00]\n",
            " [1.000e+00 1.888e+03 2.000e+00]\n",
            " [1.000e+00 1.604e+03 3.000e+00]\n",
            " [1.000e+00 1.962e+03 4.000e+00]\n",
            " [1.000e+00 3.890e+03 3.000e+00]\n",
            " [1.000e+00 1.100e+03 3.000e+00]\n",
            " [1.000e+00 1.458e+03 3.000e+00]\n",
            " [1.000e+00 2.526e+03 3.000e+00]\n",
            " [1.000e+00 2.200e+03 3.000e+00]\n",
            " [1.000e+00 2.637e+03 3.000e+00]\n",
            " [1.000e+00 1.839e+03 2.000e+00]\n",
            " [1.000e+00 1.000e+03 1.000e+00]\n",
            " [1.000e+00 2.040e+03 4.000e+00]\n",
            " [1.000e+00 3.137e+03 3.000e+00]\n",
            " [1.000e+00 1.811e+03 4.000e+00]\n",
            " [1.000e+00 1.437e+03 3.000e+00]\n",
            " [1.000e+00 1.239e+03 3.000e+00]\n",
            " [1.000e+00 2.132e+03 4.000e+00]\n",
            " [1.000e+00 4.215e+03 4.000e+00]\n",
            " [1.000e+00 2.162e+03 4.000e+00]\n",
            " [1.000e+00 1.664e+03 2.000e+00]\n",
            " [1.000e+00 2.238e+03 3.000e+00]\n",
            " [1.000e+00 2.567e+03 4.000e+00]\n",
            " [1.000e+00 1.200e+03 3.000e+00]\n",
            " [1.000e+00 8.520e+02 2.000e+00]\n",
            " [1.000e+00 1.852e+03 4.000e+00]\n",
            " [1.000e+00 1.203e+03 3.000e+00]]\n",
            "Normal equation prediction: \n",
            "[[293081.46433497]]\n",
            "Iterative prediction: \n",
            "[[293081.46714784]]\n"
          ],
          "name": "stdout"
        },
        {
          "output_type": "display_data",
          "data": {
            "image/png": "[encoded data removed]",
            "text/plain": [
              "<Figure size 432x288 with 1 Axes>"
            ]
          },
          "metadata": {
            "tags": [],
            "needs_background": "light"
          }
        }
      ]
    },
    {
      "cell_type": "code",
      "metadata": {
        "id": "CnmH8iETwOtm"
      },
      "source": [
        ""
      ],
      "execution_count": null,
      "outputs": []
    }
  ]
}