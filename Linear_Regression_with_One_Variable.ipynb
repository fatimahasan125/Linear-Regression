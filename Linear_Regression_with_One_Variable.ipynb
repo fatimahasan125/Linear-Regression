{
  "nbformat": 4,
  "nbformat_minor": 0,
  "metadata": {
    "colab": {
      "name": "Linear Regression with One Variable.ipynb",
      "provenance": []
    },
    "kernelspec": {
      "name": "python3",
      "display_name": "Python 3"
    }
  },
  "cells": [
    {
      "cell_type": "code",
      "metadata": {
        "id": "_HG5ZYL3EA--",
        "colab": {
          "base_uri": "https://localhost:8080/",
          "height": 1000
        },
        "outputId": "5dab248e-31bf-4f46-9a61-46baf6527579"
      },
      "source": [
        "import numpy as np\n",
        "import pandas as pd\n",
        "\n",
        "df = pd.read_csv(\"data one variable.txt\", header=None, names=['Population', 'Profit'])\n",
        "\n",
        "population_array = np.array(df[['Population']])\n",
        "profit_array = np.array(df[['Profit']])\n",
        "\n",
        "print(population_array)\n",
        "print(profit_array)"
      ],
      "execution_count": null,
      "outputs": [
        {
          "output_type": "stream",
          "text": [
            "[[ 6.1101]\n",
            " [ 5.5277]\n",
            " [ 8.5186]\n",
            " [ 7.0032]\n",
            " [ 5.8598]\n",
            " [ 8.3829]\n",
            " [ 7.4764]\n",
            " [ 8.5781]\n",
            " [ 6.4862]\n",
            " [ 5.0546]\n",
            " [ 5.7107]\n",
            " [14.164 ]\n",
            " [ 5.734 ]\n",
            " [ 8.4084]\n",
            " [ 5.6407]\n",
            " [ 5.3794]\n",
            " [ 6.3654]\n",
            " [ 5.1301]\n",
            " [ 6.4296]\n",
            " [ 7.0708]\n",
            " [ 6.1891]\n",
            " [20.27  ]\n",
            " [ 5.4901]\n",
            " [ 6.3261]\n",
            " [ 5.5649]\n",
            " [18.945 ]\n",
            " [12.828 ]\n",
            " [10.957 ]\n",
            " [13.176 ]\n",
            " [22.203 ]\n",
            " [ 5.2524]\n",
            " [ 6.5894]\n",
            " [ 9.2482]\n",
            " [ 5.8918]\n",
            " [ 8.2111]\n",
            " [ 7.9334]\n",
            " [ 8.0959]\n",
            " [ 5.6063]\n",
            " [12.836 ]\n",
            " [ 6.3534]\n",
            " [ 5.4069]\n",
            " [ 6.8825]\n",
            " [11.708 ]\n",
            " [ 5.7737]\n",
            " [ 7.8247]\n",
            " [ 7.0931]\n",
            " [ 5.0702]\n",
            " [ 5.8014]\n",
            " [11.7   ]\n",
            " [ 5.5416]\n",
            " [ 7.5402]\n",
            " [ 5.3077]\n",
            " [ 7.4239]\n",
            " [ 7.6031]\n",
            " [ 6.3328]\n",
            " [ 6.3589]\n",
            " [ 6.2742]\n",
            " [ 5.6397]\n",
            " [ 9.3102]\n",
            " [ 9.4536]\n",
            " [ 8.8254]\n",
            " [ 5.1793]\n",
            " [21.279 ]\n",
            " [14.908 ]\n",
            " [18.959 ]\n",
            " [ 7.2182]\n",
            " [ 8.2951]\n",
            " [10.236 ]\n",
            " [ 5.4994]\n",
            " [20.341 ]\n",
            " [10.136 ]\n",
            " [ 7.3345]\n",
            " [ 6.0062]\n",
            " [ 7.2259]\n",
            " [ 5.0269]\n",
            " [ 6.5479]\n",
            " [ 7.5386]\n",
            " [ 5.0365]\n",
            " [10.274 ]\n",
            " [ 5.1077]\n",
            " [ 5.7292]\n",
            " [ 5.1884]\n",
            " [ 6.3557]\n",
            " [ 9.7687]\n",
            " [ 6.5159]\n",
            " [ 8.5172]\n",
            " [ 9.1802]\n",
            " [ 6.002 ]\n",
            " [ 5.5204]\n",
            " [ 5.0594]\n",
            " [ 5.7077]\n",
            " [ 7.6366]\n",
            " [ 5.8707]\n",
            " [ 5.3054]\n",
            " [ 8.2934]\n",
            " [13.394 ]\n",
            " [ 5.4369]]\n",
            "[[17.592  ]\n",
            " [ 9.1302 ]\n",
            " [13.662  ]\n",
            " [11.854  ]\n",
            " [ 6.8233 ]\n",
            " [11.886  ]\n",
            " [ 4.3483 ]\n",
            " [12.     ]\n",
            " [ 6.5987 ]\n",
            " [ 3.8166 ]\n",
            " [ 3.2522 ]\n",
            " [15.505  ]\n",
            " [ 3.1551 ]\n",
            " [ 7.2258 ]\n",
            " [ 0.71618]\n",
            " [ 3.5129 ]\n",
            " [ 5.3048 ]\n",
            " [ 0.56077]\n",
            " [ 3.6518 ]\n",
            " [ 5.3893 ]\n",
            " [ 3.1386 ]\n",
            " [21.767  ]\n",
            " [ 4.263  ]\n",
            " [ 5.1875 ]\n",
            " [ 3.0825 ]\n",
            " [22.638  ]\n",
            " [13.501  ]\n",
            " [ 7.0467 ]\n",
            " [14.692  ]\n",
            " [24.147  ]\n",
            " [-1.22   ]\n",
            " [ 5.9966 ]\n",
            " [12.134  ]\n",
            " [ 1.8495 ]\n",
            " [ 6.5426 ]\n",
            " [ 4.5623 ]\n",
            " [ 4.1164 ]\n",
            " [ 3.3928 ]\n",
            " [10.117  ]\n",
            " [ 5.4974 ]\n",
            " [ 0.55657]\n",
            " [ 3.9115 ]\n",
            " [ 5.3854 ]\n",
            " [ 2.4406 ]\n",
            " [ 6.7318 ]\n",
            " [ 1.0463 ]\n",
            " [ 5.1337 ]\n",
            " [ 1.844  ]\n",
            " [ 8.0043 ]\n",
            " [ 1.0179 ]\n",
            " [ 6.7504 ]\n",
            " [ 1.8396 ]\n",
            " [ 4.2885 ]\n",
            " [ 4.9981 ]\n",
            " [ 1.4233 ]\n",
            " [-1.4211 ]\n",
            " [ 2.4756 ]\n",
            " [ 4.6042 ]\n",
            " [ 3.9624 ]\n",
            " [ 5.4141 ]\n",
            " [ 5.1694 ]\n",
            " [-0.74279]\n",
            " [17.929  ]\n",
            " [12.054  ]\n",
            " [17.054  ]\n",
            " [ 4.8852 ]\n",
            " [ 5.7442 ]\n",
            " [ 7.7754 ]\n",
            " [ 1.0173 ]\n",
            " [20.992  ]\n",
            " [ 6.6799 ]\n",
            " [ 4.0259 ]\n",
            " [ 1.2784 ]\n",
            " [ 3.3411 ]\n",
            " [-2.6807 ]\n",
            " [ 0.29678]\n",
            " [ 3.8845 ]\n",
            " [ 5.7014 ]\n",
            " [ 6.7526 ]\n",
            " [ 2.0576 ]\n",
            " [ 0.47953]\n",
            " [ 0.20421]\n",
            " [ 0.67861]\n",
            " [ 7.5435 ]\n",
            " [ 5.3436 ]\n",
            " [ 4.2415 ]\n",
            " [ 6.7981 ]\n",
            " [ 0.92695]\n",
            " [ 0.152  ]\n",
            " [ 2.8214 ]\n",
            " [ 1.8451 ]\n",
            " [ 4.2959 ]\n",
            " [ 7.2029 ]\n",
            " [ 1.9869 ]\n",
            " [ 0.14454]\n",
            " [ 9.0551 ]\n",
            " [ 0.61705]]\n"
          ],
          "name": "stdout"
        }
      ]
    },
    {
      "cell_type": "code",
      "metadata": {
        "id": "L--T523wEwPg",
        "colab": {
          "base_uri": "https://localhost:8080/",
          "height": 295
        },
        "outputId": "8cf22e48-2e73-4074-e1b5-56d61cad1539"
      },
      "source": [
        "import matplotlib.pyplot as plt\n",
        "\n",
        "plt.scatter(population_array, profit_array, marker=\"x\", c=\"red\")\n",
        "plt.title(\"Figure 1: Scatter plot of training data\")\n",
        "plt.xlabel(\"Population of City in 10,000s\")\n",
        "plt.ylabel(\"Profit in $10,000s\")\n",
        "plt.show()"
      ],
      "execution_count": null,
      "outputs": [
        {
          "output_type": "display_data",
          "data": {
            "image/png": "[encoded data removed]",
            "text/plain": [
              "<Figure size 432x288 with 1 Axes>"
            ]
          },
          "metadata": {
            "tags": [],
            "needs_background": "light"
          }
        }
      ]
    },
    {
      "cell_type": "code",
      "metadata": {
        "id": "pV0rbvRzGXg0"
      },
      "source": [
        "def hypothesis(X, theta):\n",
        "  return np.dot(X, theta)\n",
        "\n",
        "def gradient(X, y, theta):\n",
        "  return (X.T.dot(hypothesis(X, theta) - y))/len(y)\n"
      ],
      "execution_count": null,
      "outputs": []
    },
    {
      "cell_type": "code",
      "metadata": {
        "id": "COmP97h6IO8O",
        "colab": {
          "base_uri": "https://localhost:8080/",
          "height": 312
        },
        "outputId": "d6eff463-2219-4ba5-c808-f5107e044d74"
      },
      "source": [
        "theta = np.zeros((2,1))\n",
        "iterations = 1000\n",
        "alpha = 0.01\n",
        "\n",
        "population_array = np.insert(population_array, 0, 1, axis = 1)\n",
        "\n",
        "for iteration in range(iterations):\n",
        "    theta = theta - alpha*gradient(population_array, profit_array, theta)\n",
        "\n",
        "plt.scatter(population_array[:, 1] , profit_array, marker=\"x\", c=\"red\")\n",
        "plt.title(\"Figure 1: Scatter plot of training data\")\n",
        "plt.xlabel(\"Population of City in 10,000s\")\n",
        "plt.ylabel(\"Profit in $10,000s\")\n",
        "plt.plot(population_array[:,1], theta[0] + theta[1]*population_array[:,1])\n",
        "\n"
      ],
      "execution_count": null,
      "outputs": [
        {
          "output_type": "execute_result",
          "data": {
            "text/plain": [
              "[<matplotlib.lines.Line2D at 0x7f8850cbf3c8>]"
            ]
          },
          "metadata": {
            "tags": []
          },
          "execution_count": 6
        },
        {
          "output_type": "display_data",
          "data": {
            "image/png": "[encoded data removed]",
            "text/plain": [
              "<Figure size 432x288 with 1 Axes>"
            ]
          },
          "metadata": {
            "tags": [],
            "needs_background": "light"
          }
        }
      ]
    },
    {
      "cell_type": "code",
      "metadata": {
        "id": "VOIM5VEzBU0D"
      },
      "source": [
        ""
      ],
      "execution_count": null,
      "outputs": []
    }
  ]
}